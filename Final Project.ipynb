{
 "cells": [
  {
   "cell_type": "markdown",
   "id": "e14c2694",
   "metadata": {},
   "source": [
    "# Data Science Tools and Ecosystem"
   ]
  },
  {
   "cell_type": "markdown",
   "id": "c915ce31",
   "metadata": {},
   "source": [
    "In this notebook, Data Science and Ecosystem are summarized."
   ]
  },
  {
   "cell_type": "markdown",
   "id": "ce1c0ce8",
   "metadata": {},
   "source": [
    "**Ojectives**\n",
    "* List popular languages for Data Science.\n",
    "* List common libraries for Data Science.\n",
    "* List tools for Data Science."
   ]
  },
  {
   "cell_type": "markdown",
   "id": "8b468191",
   "metadata": {},
   "source": [
    "Some of the popular languages that Data Scientists use are:\n",
    "* C++\n",
    "* R\n",
    "* Java\n",
    "* Apache MLlib"
   ]
  },
  {
   "cell_type": "markdown",
   "id": "9a3fd9d2",
   "metadata": {},
   "source": [
    "Some of the commonly used libraries used by Data Scientists include:\n",
    "* ggplot2\n",
    "* Lattice\n",
    "* Pandas"
   ]
  },
  {
   "cell_type": "markdown",
   "id": "45cfb7d2",
   "metadata": {},
   "source": [
    "Data Science Tools|\n",
    "-------------------\n",
    "TensorFlow|\n",
    "Watson Studio|\n",
    "Spyder|"
   ]
  },
  {
   "cell_type": "markdown",
   "id": "c9a79875",
   "metadata": {},
   "source": [
    "### Below are a few examples of evaluating arithmetic expressions in Python."
   ]
  },
  {
   "cell_type": "code",
   "execution_count": 6,
   "id": "a5973cb7",
   "metadata": {
    "scrolled": true
   },
   "outputs": [
    {
     "data": {
      "text/plain": [
       "17"
      ]
     },
     "execution_count": 6,
     "metadata": {},
     "output_type": "execute_result"
    }
   ],
   "source": [
    "#This is a simple arithmetic expression to multiply then add integers.\n",
    "(3*4)+5"
   ]
  },
  {
   "cell_type": "code",
   "execution_count": 7,
   "id": "dc05d06a",
   "metadata": {},
   "outputs": [
    {
     "data": {
      "text/plain": [
       "3.3333333333333335"
      ]
     },
     "execution_count": 7,
     "metadata": {},
     "output_type": "execute_result"
    }
   ],
   "source": [
    "#This will convert 200 minutes to hours by diving by 60.\n",
    "200/60"
   ]
  },
  {
   "cell_type": "markdown",
   "id": "7a92d0ff",
   "metadata": {},
   "source": [
    "## Author\n",
    "Phyllis O'Neil"
   ]
  }
 ],
 "metadata": {
  "kernelspec": {
   "display_name": "Python 3 (ipykernel)",
   "language": "python",
   "name": "python3"
  },
  "language_info": {
   "codemirror_mode": {
    "name": "ipython",
    "version": 3
   },
   "file_extension": ".py",
   "mimetype": "text/x-python",
   "name": "python",
   "nbconvert_exporter": "python",
   "pygments_lexer": "ipython3",
   "version": "3.11.4"
  }
 },
 "nbformat": 4,
 "nbformat_minor": 5
}
